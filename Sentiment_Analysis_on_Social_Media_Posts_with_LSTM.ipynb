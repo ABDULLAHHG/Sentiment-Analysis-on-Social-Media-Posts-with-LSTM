{
 "cells": [
  {
   "cell_type": "code",
   "execution_count": 2,
   "metadata": {
    "_cell_guid": "b1076dfc-b9ad-4769-8c92-a6c4dae69d19",
    "_uuid": "8f2839f25d086af736a60e9eeb907d3b93b6e0e5",
    "execution": {
     "iopub.execute_input": "2024-07-15T03:41:35.043987Z",
     "iopub.status.busy": "2024-07-15T03:41:35.043567Z",
     "iopub.status.idle": "2024-07-15T03:41:35.051773Z",
     "shell.execute_reply": "2024-07-15T03:41:35.050594Z",
     "shell.execute_reply.started": "2024-07-15T03:41:35.043948Z"
    }
   },
   "outputs": [
    {
     "name": "stdout",
     "output_type": "stream",
     "text": [
      "/kaggle/input/amazonreviews/test.ft.txt.bz2\n",
      "/kaggle/input/amazonreviews/train.ft.txt.bz2\n"
     ]
    }
   ],
   "source": [
    "import numpy as np \n",
    "import pandas as pd \n",
    "import bz2\n",
    "import re\n",
    "import string\n",
    "import os\n"
   ]
  },
  {
   "cell_type": "code",
   "execution_count": 3,
   "metadata": {
    "execution": {
     "iopub.execute_input": "2024-07-15T03:42:31.421513Z",
     "iopub.status.busy": "2024-07-15T03:42:31.421143Z",
     "iopub.status.idle": "2024-07-15T03:42:31.432910Z",
     "shell.execute_reply": "2024-07-15T03:42:31.431853Z",
     "shell.execute_reply.started": "2024-07-15T03:42:31.421485Z"
    }
   },
   "outputs": [],
   "source": [
    "test_file = bz2.BZ2File('test.ft.txt.bz2')\n",
    "train_file = bz2.BZ2File('train.ft.txt.bz2')"
   ]
  },
  {
   "cell_type": "code",
   "execution_count": 4,
   "metadata": {
    "execution": {
     "iopub.execute_input": "2024-07-15T03:42:41.075213Z",
     "iopub.status.busy": "2024-07-15T03:42:41.074811Z",
     "iopub.status.idle": "2024-07-15T03:45:28.078472Z",
     "shell.execute_reply": "2024-07-15T03:45:28.077196Z",
     "shell.execute_reply.started": "2024-07-15T03:42:41.075181Z"
    }
   },
   "outputs": [],
   "source": [
    "train_file_lines = train_file.readlines()\n",
    "test_file_lines = test_file.readlines()"
   ]
  },
  {
   "cell_type": "code",
   "execution_count": 5,
   "metadata": {
    "execution": {
     "iopub.execute_input": "2024-07-15T03:45:28.081320Z",
     "iopub.status.busy": "2024-07-15T03:45:28.080600Z",
     "iopub.status.idle": "2024-07-15T03:45:28.087856Z",
     "shell.execute_reply": "2024-07-15T03:45:28.086507Z",
     "shell.execute_reply.started": "2024-07-15T03:45:28.081273Z"
    }
   },
   "outputs": [],
   "source": [
    "# delete them to free some ram space \n",
    "del train_file, test_file"
   ]
  },
  {
   "cell_type": "code",
   "execution_count": 6,
   "metadata": {
    "execution": {
     "iopub.execute_input": "2024-07-15T03:45:28.089793Z",
     "iopub.status.busy": "2024-07-15T03:45:28.089307Z",
     "iopub.status.idle": "2024-07-15T03:45:30.988241Z",
     "shell.execute_reply": "2024-07-15T03:45:30.987098Z",
     "shell.execute_reply.started": "2024-07-15T03:45:28.089737Z"
    }
   },
   "outputs": [],
   "source": [
    "train_file_lines = [x.decode('utf-8') for x in train_file_lines]\n",
    "test_file_lines = [x.decode('utf-8') for x in test_file_lines]"
   ]
  },
  {
   "cell_type": "markdown",
   "metadata": {},
   "source": [
    "### extruct the labels for train and test "
   ]
  },
  {
   "cell_type": "code",
   "execution_count": 7,
   "metadata": {
    "execution": {
     "iopub.execute_input": "2024-07-15T03:45:30.990857Z",
     "iopub.status.busy": "2024-07-15T03:45:30.990491Z",
     "iopub.status.idle": "2024-07-15T03:46:14.972243Z",
     "shell.execute_reply": "2024-07-15T03:46:14.971062Z",
     "shell.execute_reply.started": "2024-07-15T03:45:30.990826Z"
    }
   },
   "outputs": [],
   "source": [
    "train_labels = [0 if x.split(' ')[0] == '__label__1' else 1 for x in train_file_lines]\n",
    "train_sentences = [x.split(' ', 1)[1][:-1].lower() for x in train_file_lines]\n",
    "\n",
    "for i in range(len(train_sentences)):\n",
    "    train_sentences[i] = re.sub('\\d','0',train_sentences[i])\n",
    "    \n",
    "test_labels = [0 if x.split(' ')[0] == '__label__1' else 1 for x in test_file_lines]\n",
    "test_sentences = [x.split(' ', 1)[1][:-1].lower() for x in test_file_lines]\n"
   ]
  },
  {
   "cell_type": "code",
   "execution_count": 8,
   "metadata": {
    "execution": {
     "iopub.execute_input": "2024-07-15T03:46:14.974056Z",
     "iopub.status.busy": "2024-07-15T03:46:14.973701Z",
     "iopub.status.idle": "2024-07-15T03:46:15.374817Z",
     "shell.execute_reply": "2024-07-15T03:46:15.373379Z",
     "shell.execute_reply.started": "2024-07-15T03:46:14.974025Z"
    }
   },
   "outputs": [],
   "source": [
    "del train_file_lines , test_file_lines"
   ]
  },
  {
   "cell_type": "markdown",
   "metadata": {},
   "source": [
    "### Create a DataFrame "
   ]
  },
  {
   "cell_type": "code",
   "execution_count": 9,
   "metadata": {
    "execution": {
     "iopub.execute_input": "2024-07-15T03:46:15.376609Z",
     "iopub.status.busy": "2024-07-15T03:46:15.376244Z",
     "iopub.status.idle": "2024-07-15T03:46:16.978607Z",
     "shell.execute_reply": "2024-07-15T03:46:16.977475Z",
     "shell.execute_reply.started": "2024-07-15T03:46:15.376571Z"
    }
   },
   "outputs": [],
   "source": [
    "df_train = pd.DataFrame({\"text\" : train_sentences , \"target\" : train_labels})\n",
    "df_test = pd.DataFrame({\"text\" : test_sentences , \"target\" : test_labels})"
   ]
  },
  {
   "cell_type": "code",
   "execution_count": 10,
   "metadata": {
    "execution": {
     "iopub.execute_input": "2024-07-15T03:46:16.980395Z",
     "iopub.status.busy": "2024-07-15T03:46:16.980080Z",
     "iopub.status.idle": "2024-07-15T03:46:17.053211Z",
     "shell.execute_reply": "2024-07-15T03:46:17.051722Z",
     "shell.execute_reply.started": "2024-07-15T03:46:16.980367Z"
    }
   },
   "outputs": [],
   "source": [
    "del train_sentences , train_labels , test_sentences , test_labels "
   ]
  },
  {
   "cell_type": "code",
   "execution_count": 39,
   "metadata": {
    "execution": {
     "iopub.execute_input": "2024-07-15T04:14:36.242453Z",
     "iopub.status.busy": "2024-07-15T04:14:36.241996Z",
     "iopub.status.idle": "2024-07-15T04:14:36.529905Z",
     "shell.execute_reply": "2024-07-15T04:14:36.528816Z",
     "shell.execute_reply.started": "2024-07-15T04:14:36.242400Z"
    }
   },
   "outputs": [],
   "source": [
    "df_train = df_train.sample(100000)\n",
    "df_test = df_test.sample(100000)"
   ]
  },
  {
   "cell_type": "markdown",
   "metadata": {},
   "source": [
    "### Text Preprocessing "
   ]
  },
  {
   "cell_type": "code",
   "execution_count": 40,
   "metadata": {
    "execution": {
     "iopub.execute_input": "2024-07-15T04:14:38.208191Z",
     "iopub.status.busy": "2024-07-15T04:14:38.207770Z",
     "iopub.status.idle": "2024-07-15T04:14:38.215889Z",
     "shell.execute_reply": "2024-07-15T04:14:38.214407Z",
     "shell.execute_reply.started": "2024-07-15T04:14:38.208156Z"
    }
   },
   "outputs": [],
   "source": [
    "def remove_URL(text):\n",
    "    \"\"\"\n",
    "        Remove URLs from a sample string\n",
    "    \"\"\"\n",
    "    return re.sub(r\"https?://\\S+|www\\.\\S+\", \"\", text)\n",
    "\n",
    "\n",
    "\n",
    "def remove_html(text):\n",
    "    \"\"\"\n",
    "        Remove the html in sample text\n",
    "    \"\"\"\n",
    "    html = re.compile(r\"<.*?>|&([a-z0-9]+|#[0-9]{1,6}|#x[0-9a-f]{1,6});\")\n",
    "    return re.sub(html, \"\", text)\n",
    "\n",
    "\n",
    "def remove_non_ascii(text):\n",
    "    \"\"\"\n",
    "        Remove non-ASCII characters \n",
    "    \"\"\"\n",
    "    return re.sub(r'[^\\x00-\\x7f]',r'', text) # or ''.join([x for x in text if x in string.printable]) \n",
    "\n",
    "\n",
    "def remove_punct(text):\n",
    "    \"\"\"\n",
    "        Remove the punctuation\n",
    "    \"\"\"\n",
    "#     return re.sub(r'[]!\"$%&\\'()*+,./:;=#@?[\\\\^_`{|}~-]+', \"\", text)\n",
    "    return text.translate(str.maketrans('', '', string.punctuation))"
   ]
  },
  {
   "cell_type": "code",
   "execution_count": 41,
   "metadata": {
    "execution": {
     "iopub.execute_input": "2024-07-15T04:14:38.718848Z",
     "iopub.status.busy": "2024-07-15T04:14:38.718412Z",
     "iopub.status.idle": "2024-07-15T04:14:43.261463Z",
     "shell.execute_reply": "2024-07-15T04:14:43.260164Z",
     "shell.execute_reply.started": "2024-07-15T04:14:38.718814Z"
    },
    "scrolled": true
   },
   "outputs": [
    {
     "name": "stdout",
     "output_type": "stream",
     "text": [
      "CPU times: user 3 µs, sys: 0 ns, total: 3 µs\n",
      "Wall time: 7.63 µs\n"
     ]
    }
   ],
   "source": [
    "%time\n",
    "# apply Remove URLs\n",
    "df_train[\"text\"] = df_train[\"text\"].apply(lambda x: remove_URL(x))\n",
    "df_test[\"text\"] = df_test[\"text\"].apply(lambda x: remove_URL(x))\n",
    "\n",
    "# apply Remove html\n",
    "df_train[\"text\"] = df_train[\"text\"].apply(lambda x: remove_html(x))\n",
    "df_test[\"text\"] = df_test[\"text\"].apply(lambda x: remove_html(x))\n",
    "\n",
    "# apply Remove non-ASCII\n",
    "df_train[\"text\"] = df_train[\"text\"].apply(lambda x: remove_non_ascii(x))\n",
    "df_test[\"text\"] = df_test[\"text\"].apply(lambda x: remove_non_ascii(x))\n",
    "\n",
    "# apply Remove punctuation\n",
    "df_train[\"text\"] = df_train[\"text\"].apply(lambda x: remove_punct(x))\n",
    "df_test[\"text\"] = df_test[\"text\"].apply(lambda x: remove_punct(x))"
   ]
  },
  {
   "cell_type": "markdown",
   "metadata": {},
   "source": [
    "### Build a Model "
   ]
  },
  {
   "cell_type": "code",
   "execution_count": 42,
   "metadata": {
    "execution": {
     "iopub.execute_input": "2024-07-15T04:14:43.264297Z",
     "iopub.status.busy": "2024-07-15T04:14:43.263784Z",
     "iopub.status.idle": "2024-07-15T04:14:43.270150Z",
     "shell.execute_reply": "2024-07-15T04:14:43.269001Z",
     "shell.execute_reply.started": "2024-07-15T04:14:43.264254Z"
    }
   },
   "outputs": [],
   "source": [
    "from keras.models import Model, Sequential\n",
    "from tensorflow.keras.preprocessing import text, sequence"
   ]
  },
  {
   "cell_type": "code",
   "execution_count": 43,
   "metadata": {
    "execution": {
     "iopub.execute_input": "2024-07-15T04:14:43.272169Z",
     "iopub.status.busy": "2024-07-15T04:14:43.271703Z",
     "iopub.status.idle": "2024-07-15T04:14:43.283135Z",
     "shell.execute_reply": "2024-07-15T04:14:43.281801Z",
     "shell.execute_reply.started": "2024-07-15T04:14:43.272126Z"
    }
   },
   "outputs": [],
   "source": [
    "max_features = 20000\n",
    "maxlen = 100"
   ]
  },
  {
   "cell_type": "code",
   "execution_count": 44,
   "metadata": {
    "execution": {
     "iopub.execute_input": "2024-07-15T04:14:43.701777Z",
     "iopub.status.busy": "2024-07-15T04:14:43.701368Z",
     "iopub.status.idle": "2024-07-15T04:14:43.707151Z",
     "shell.execute_reply": "2024-07-15T04:14:43.705871Z",
     "shell.execute_reply.started": "2024-07-15T04:14:43.701743Z"
    }
   },
   "outputs": [],
   "source": [
    "tokenizer = text.Tokenizer(num_words=max_features)"
   ]
  },
  {
   "cell_type": "code",
   "execution_count": 45,
   "metadata": {
    "execution": {
     "iopub.execute_input": "2024-07-15T04:14:44.288769Z",
     "iopub.status.busy": "2024-07-15T04:14:44.288349Z",
     "iopub.status.idle": "2024-07-15T04:14:52.553685Z",
     "shell.execute_reply": "2024-07-15T04:14:52.552484Z",
     "shell.execute_reply.started": "2024-07-15T04:14:44.288738Z"
    }
   },
   "outputs": [],
   "source": [
    "tokenizer.fit_on_texts(df_train[\"text\"])"
   ]
  },
  {
   "cell_type": "code",
   "execution_count": 46,
   "metadata": {
    "execution": {
     "iopub.execute_input": "2024-07-15T04:14:52.556481Z",
     "iopub.status.busy": "2024-07-15T04:14:52.556006Z",
     "iopub.status.idle": "2024-07-15T04:14:58.070971Z",
     "shell.execute_reply": "2024-07-15T04:14:58.069651Z",
     "shell.execute_reply.started": "2024-07-15T04:14:52.556440Z"
    }
   },
   "outputs": [],
   "source": [
    "tokenized_train = tokenizer.texts_to_sequences(df_train[\"text\"])\n",
    "X_train = sequence.pad_sequences(tokenized_train, maxlen=maxlen)"
   ]
  },
  {
   "cell_type": "code",
   "execution_count": 47,
   "metadata": {
    "execution": {
     "iopub.execute_input": "2024-07-15T04:14:58.072685Z",
     "iopub.status.busy": "2024-07-15T04:14:58.072326Z",
     "iopub.status.idle": "2024-07-15T04:15:03.450585Z",
     "shell.execute_reply": "2024-07-15T04:15:03.448566Z",
     "shell.execute_reply.started": "2024-07-15T04:14:58.072643Z"
    }
   },
   "outputs": [],
   "source": [
    "tokenized_test = tokenizer.texts_to_sequences(df_test[\"text\"])\n",
    "X_test = sequence.pad_sequences(tokenized_test, maxlen=maxlen)"
   ]
  },
  {
   "cell_type": "code",
   "execution_count": 48,
   "metadata": {
    "execution": {
     "iopub.execute_input": "2024-07-15T04:15:03.453731Z",
     "iopub.status.busy": "2024-07-15T04:15:03.453310Z",
     "iopub.status.idle": "2024-07-15T04:15:03.460138Z",
     "shell.execute_reply": "2024-07-15T04:15:03.458739Z",
     "shell.execute_reply.started": "2024-07-15T04:15:03.453688Z"
    }
   },
   "outputs": [],
   "source": [
    "from tensorflow.keras.layers import Embedding , LSTM , Dropout , Flatten , Dense\n",
    "from tensorflow.keras.models import Sequential\n",
    "from tensorflow.keras.optimizers import Adam"
   ]
  },
  {
   "cell_type": "code",
   "execution_count": 82,
   "metadata": {
    "execution": {
     "iopub.execute_input": "2024-07-15T04:54:28.505463Z",
     "iopub.status.busy": "2024-07-15T04:54:28.505040Z",
     "iopub.status.idle": "2024-07-15T04:54:28.511617Z",
     "shell.execute_reply": "2024-07-15T04:54:28.510257Z",
     "shell.execute_reply.started": "2024-07-15T04:54:28.505427Z"
    }
   },
   "outputs": [],
   "source": [
    "batch_size = 2048\n",
    "epochs = 5\n",
    "embed_size = 100"
   ]
  },
  {
   "cell_type": "code",
   "execution_count": 83,
   "metadata": {
    "execution": {
     "iopub.execute_input": "2024-07-15T04:54:28.672794Z",
     "iopub.status.busy": "2024-07-15T04:54:28.672265Z",
     "iopub.status.idle": "2024-07-15T04:54:28.710552Z",
     "shell.execute_reply": "2024-07-15T04:54:28.709167Z",
     "shell.execute_reply.started": "2024-07-15T04:54:28.672752Z"
    }
   },
   "outputs": [],
   "source": [
    "model = Sequential([\n",
    "Embedding(max_features, embed_size),\n",
    "LSTM(128 , return_sequences = True , dropout=0.2),\n",
    "LSTM(64 , dropout=0.1),\n",
    "Dropout(0.2),\n",
    "Dense(64 , activation = \"relu\"),\n",
    "Dropout(0.1),\n",
    "Dense(1, activation='sigmoid')])"
   ]
  },
  {
   "cell_type": "code",
   "execution_count": 84,
   "metadata": {
    "execution": {
     "iopub.execute_input": "2024-07-15T04:54:28.858562Z",
     "iopub.status.busy": "2024-07-15T04:54:28.858150Z",
     "iopub.status.idle": "2024-07-15T04:54:28.871148Z",
     "shell.execute_reply": "2024-07-15T04:54:28.869821Z",
     "shell.execute_reply.started": "2024-07-15T04:54:28.858529Z"
    }
   },
   "outputs": [],
   "source": [
    "model.compile(optimizer=Adam(),\n",
    "              loss='binary_crossentropy',\n",
    "              metrics=['accuracy'])"
   ]
  },
  {
   "cell_type": "code",
   "execution_count": 85,
   "metadata": {
    "execution": {
     "iopub.execute_input": "2024-07-15T04:54:29.022629Z",
     "iopub.status.busy": "2024-07-15T04:54:29.022136Z",
     "iopub.status.idle": "2024-07-15T05:11:23.620964Z",
     "shell.execute_reply": "2024-07-15T05:11:23.619282Z",
     "shell.execute_reply.started": "2024-07-15T04:54:29.022591Z"
    }
   },
   "outputs": [
    {
     "name": "stdout",
     "output_type": "stream",
     "text": [
      "Epoch 1/5\n",
      "\u001b[1m49/49\u001b[0m \u001b[32m━━━━━━━━━━━━━━━━━━━━\u001b[0m\u001b[37m\u001b[0m \u001b[1m207s\u001b[0m 4s/step - accuracy: 0.6121 - loss: 0.6513 - val_accuracy: 0.8207 - val_loss: 0.4047\n",
      "Epoch 2/5\n",
      "\u001b[1m49/49\u001b[0m \u001b[32m━━━━━━━━━━━━━━━━━━━━\u001b[0m\u001b[37m\u001b[0m \u001b[1m203s\u001b[0m 4s/step - accuracy: 0.8552 - loss: 0.3436 - val_accuracy: 0.8831 - val_loss: 0.2819\n",
      "Epoch 3/5\n",
      "\u001b[1m49/49\u001b[0m \u001b[32m━━━━━━━━━━━━━━━━━━━━\u001b[0m\u001b[37m\u001b[0m \u001b[1m202s\u001b[0m 4s/step - accuracy: 0.9073 - loss: 0.2377 - val_accuracy: 0.8918 - val_loss: 0.2667\n",
      "Epoch 4/5\n",
      "\u001b[1m49/49\u001b[0m \u001b[32m━━━━━━━━━━━━━━━━━━━━\u001b[0m\u001b[37m\u001b[0m \u001b[1m202s\u001b[0m 4s/step - accuracy: 0.9258 - loss: 0.1961 - val_accuracy: 0.8914 - val_loss: 0.2655\n",
      "Epoch 5/5\n",
      "\u001b[1m49/49\u001b[0m \u001b[32m━━━━━━━━━━━━━━━━━━━━\u001b[0m\u001b[37m\u001b[0m \u001b[1m200s\u001b[0m 4s/step - accuracy: 0.9365 - loss: 0.1738 - val_accuracy: 0.8889 - val_loss: 0.2875\n"
     ]
    },
    {
     "data": {
      "text/plain": [
       "<keras.src.callbacks.history.History at 0x7a112710a050>"
      ]
     },
     "execution_count": 85,
     "metadata": {},
     "output_type": "execute_result"
    }
   ],
   "source": [
    "# Train the model\n",
    "hist = model.fit(X_train,\n",
    "            df_train[\"target\"],\n",
    "            batch_size=batch_size,\n",
    "            epochs=epochs, \n",
    "            shuffle = True,\n",
    "            validation_data=(X_test, df_test[\"target\"]))\n",
    "hist"
   ]
  },
  {
   "cell_type": "code",
   "execution_count": 86,
   "metadata": {
    "execution": {
     "iopub.execute_input": "2024-07-15T05:11:23.624586Z",
     "iopub.status.busy": "2024-07-15T05:11:23.624055Z",
     "iopub.status.idle": "2024-07-15T05:14:18.915304Z",
     "shell.execute_reply": "2024-07-15T05:14:18.913924Z",
     "shell.execute_reply.started": "2024-07-15T05:11:23.624538Z"
    }
   },
   "outputs": [
    {
     "name": "stdout",
     "output_type": "stream",
     "text": [
      "\u001b[1m3125/3125\u001b[0m \u001b[32m━━━━━━━━━━━━━━━━━━━━\u001b[0m\u001b[37m\u001b[0m \u001b[1m174s\u001b[0m 56ms/step\n"
     ]
    }
   ],
   "source": [
    "y_pred = model.predict(X_test) "
   ]
  },
  {
   "cell_type": "code",
   "execution_count": 87,
   "metadata": {
    "execution": {
     "iopub.execute_input": "2024-07-15T05:14:18.917513Z",
     "iopub.status.busy": "2024-07-15T05:14:18.917134Z",
     "iopub.status.idle": "2024-07-15T05:14:18.927060Z",
     "shell.execute_reply": "2024-07-15T05:14:18.925603Z",
     "shell.execute_reply.started": "2024-07-15T05:14:18.917482Z"
    }
   },
   "outputs": [
    {
     "data": {
      "text/plain": [
       "array([[ 551,  207, 1195, ...,   15,   10, 1460],\n",
       "       [   0,    0,    0, ...,   10,  885, 3205],\n",
       "       [   0,    0,    0, ...,   19,    5,  203],\n",
       "       ...,\n",
       "       [   0,    0,    0, ...,  335,    7, 5345],\n",
       "       [   0,    0,    0, ...,  664, 8150,   43],\n",
       "       [   0,    0,    0, ...,  115,  117,  706]], dtype=int32)"
      ]
     },
     "execution_count": 87,
     "metadata": {},
     "output_type": "execute_result"
    }
   ],
   "source": [
    "X_test"
   ]
  },
  {
   "cell_type": "code",
   "execution_count": 88,
   "metadata": {
    "execution": {
     "iopub.execute_input": "2024-07-15T05:14:18.929966Z",
     "iopub.status.busy": "2024-07-15T05:14:18.929527Z",
     "iopub.status.idle": "2024-07-15T05:14:18.944023Z",
     "shell.execute_reply": "2024-07-15T05:14:18.941605Z",
     "shell.execute_reply.started": "2024-07-15T05:14:18.929926Z"
    }
   },
   "outputs": [],
   "source": [
    "import numpy as np\n",
    "from sklearn.metrics import accuracy_score, classification_report, confusion_matrix, ConfusionMatrixDisplay\n",
    "\n",
    "from sklearn.metrics import confusion_matrix,classification_report\n",
    "import seaborn as sns\n",
    "import matplotlib.pyplot as plt "
   ]
  },
  {
   "cell_type": "code",
   "execution_count": 90,
   "metadata": {
    "execution": {
     "iopub.execute_input": "2024-07-15T05:34:19.956123Z",
     "iopub.status.busy": "2024-07-15T05:34:19.954627Z",
     "iopub.status.idle": "2024-07-15T05:34:20.229852Z",
     "shell.execute_reply": "2024-07-15T05:34:20.228581Z",
     "shell.execute_reply.started": "2024-07-15T05:34:19.956079Z"
    }
   },
   "outputs": [
    {
     "name": "stdout",
     "output_type": "stream",
     "text": [
      "              precision    recall  f1-score   support\n",
      "\n",
      "           0       0.87      0.92      0.89     49814\n",
      "           1       0.91      0.86      0.89     50186\n",
      "\n",
      "    accuracy                           0.89    100000\n",
      "   macro avg       0.89      0.89      0.89    100000\n",
      "weighted avg       0.89      0.89      0.89    100000\n",
      "\n"
     ]
    }
   ],
   "source": [
    "cr = classification_report(df_test[\"target\"].values,np.round(y_pred))\n",
    "print(cr)"
   ]
  },
  {
   "cell_type": "code",
   "execution_count": 89,
   "metadata": {
    "execution": {
     "iopub.execute_input": "2024-07-15T05:14:18.946891Z",
     "iopub.status.busy": "2024-07-15T05:14:18.945765Z",
     "iopub.status.idle": "2024-07-15T05:14:19.365086Z",
     "shell.execute_reply": "2024-07-15T05:14:19.363755Z",
     "shell.execute_reply.started": "2024-07-15T05:14:18.946825Z"
    }
   },
   "outputs": [
    {
     "data": {
      "image/png": "[encoded data removed]",
      "text/plain": [
       "<Figure size 640x480 with 2 Axes>"
      ]
     },
     "metadata": {},
     "output_type": "display_data"
    }
   ],
   "source": [
    "cm = confusion_matrix(df_test[\"target\"].values,np.round(y_pred))\n",
    "\n",
    "sns.heatmap(cm, annot=True, fmt='g', xticklabels=['0','1'], yticklabels=['0','1']) \n",
    "plt.ylabel('Actual', fontsize=13) \n",
    "plt.title('Confusion Matrix', fontsize=17, pad=20) \n",
    "plt.gca().xaxis.set_label_position('top')\n",
    "plt.xlabel('Prediction', fontsize=13) \n",
    "plt.gca().xaxis.tick_top() \n",
    "plt.gca().figure.subplots_adjust(bottom=0.2)\n",
    "plt.gca().figure.text(0.5, 0.05, 'Prediction', ha='center', fontsize=13)\n",
    "plt.show()\n"
   ]
  },
  {
   "cell_type": "code",
   "execution_count": null,
   "metadata": {},
   "outputs": [],
   "source": []
  },
  {
   "cell_type": "code",
   "execution_count": null,
   "metadata": {},
   "outputs": [],
   "source": []
  },
  {
   "cell_type": "code",
   "execution_count": null,
   "metadata": {},
   "outputs": [],
   "source": []
  }
 ],
 "metadata": {
  "kaggle": {
   "accelerator": "none",
   "dataSources": [
    {
     "datasetId": 1305,
     "sourceId": 800230,
     "sourceType": "datasetVersion"
    }
   ],
   "dockerImageVersionId": 30746,
   "isGpuEnabled": false,
   "isInternetEnabled": false,
   "language": "python",
   "sourceType": "notebook"
  },
  "kernelspec": {
   "display_name": "Python 3 (ipykernel)",
   "language": "python",
   "name": "python3"
  },
  "language_info": {
   "codemirror_mode": {
    "name": "ipython",
    "version": 3
   },
   "file_extension": ".py",
   "mimetype": "text/x-python",
   "name": "python",
   "nbconvert_exporter": "python",
   "pygments_lexer": "ipython3",
   "version": "3.11.7"
  }
 },
 "nbformat": 4,
 "nbformat_minor": 4
}
